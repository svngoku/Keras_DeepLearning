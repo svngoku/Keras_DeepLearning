{
 "cells": [
  {
   "cell_type": "code",
   "execution_count": 22,
   "id": "structural-clause",
   "metadata": {},
   "outputs": [],
   "source": [
    "import pandas as pd"
   ]
  },
  {
   "cell_type": "code",
   "execution_count": 23,
   "id": "agricultural-spring",
   "metadata": {},
   "outputs": [],
   "source": [
    "import matplotlib.pyplot as plt"
   ]
  },
  {
   "cell_type": "code",
   "execution_count": 8,
   "id": "improving-enclosure",
   "metadata": {},
   "outputs": [],
   "source": [
    "from keras.datasets import imdb"
   ]
  },
  {
   "cell_type": "code",
   "execution_count": 9,
   "id": "subsequent-vintage",
   "metadata": {},
   "outputs": [],
   "source": [
    "from keras import preprocessing\n",
    "from keras.models import Sequential\n",
    "from keras.layers import Flatten, Dense, Embedding"
   ]
  },
  {
   "cell_type": "code",
   "execution_count": 36,
   "id": "adjacent-jason",
   "metadata": {},
   "outputs": [],
   "source": [
    "def plot_training(epochs, score, eval_score, evac_or_loss):\n",
    "    plt.plot(epochs, score, 'bo', label=\"Entrainement\")\n",
    "    plt.plot(epochs, eval_score, 'b', label=\"Validation\")\n",
    "    plt.title(f\" {evac_or_loss} pendant l'entrainement et la validation\")\n",
    "    plt.legend()"
   ]
  },
  {
   "cell_type": "code",
   "execution_count": 19,
   "id": "legitimate-switzerland",
   "metadata": {},
   "outputs": [],
   "source": [
    "def init_model(x_train, y_train):\n",
    "    \n",
    "    model = Sequential()\n",
    "    \n",
    "    model.add(Embedding(10000, 8, input_length=maxlen))\n",
    "    model.add(Flatten())\n",
    "    model.add(Dense(1, activation='sigmoid'))\n",
    "    model.compile(optimizer='rmsprop', loss='binary_crossentropy',metrics=['acc'])\n",
    "    model.summary()\n",
    "    history = model.fit(x_train, y_train, epochs=10, batch_size=32, validation_split=0.2)\n",
    "    \n",
    "    return history"
   ]
  },
  {
   "cell_type": "code",
   "execution_count": 11,
   "id": "exciting-invitation",
   "metadata": {},
   "outputs": [],
   "source": [
    "max_features = 10000"
   ]
  },
  {
   "cell_type": "code",
   "execution_count": 12,
   "id": "moral-diesel",
   "metadata": {},
   "outputs": [],
   "source": [
    "maxlen = 20"
   ]
  },
  {
   "cell_type": "code",
   "execution_count": 13,
   "id": "stopped-passing",
   "metadata": {},
   "outputs": [
    {
     "name": "stdout",
     "output_type": "stream",
     "text": [
      "Downloading data from https://storage.googleapis.com/tensorflow/tf-keras-datasets/imdb.npz\n",
      "17465344/17464789 [==============================] - 17s 1us/step\n"
     ]
    },
    {
     "name": "stderr",
     "output_type": "stream",
     "text": [
      "<__array_function__ internals>:5: VisibleDeprecationWarning: Creating an ndarray from ragged nested sequences (which is a list-or-tuple of lists-or-tuples-or ndarrays with different lengths or shapes) is deprecated. If you meant to do this, you must specify 'dtype=object' when creating the ndarray\n",
      "/opt/conda/lib/python3.8/site-packages/tensorflow/python/keras/datasets/imdb.py:159: VisibleDeprecationWarning: Creating an ndarray from ragged nested sequences (which is a list-or-tuple of lists-or-tuples-or ndarrays with different lengths or shapes) is deprecated. If you meant to do this, you must specify 'dtype=object' when creating the ndarray\n",
      "  x_train, y_train = np.array(xs[:idx]), np.array(labels[:idx])\n",
      "/opt/conda/lib/python3.8/site-packages/tensorflow/python/keras/datasets/imdb.py:160: VisibleDeprecationWarning: Creating an ndarray from ragged nested sequences (which is a list-or-tuple of lists-or-tuples-or ndarrays with different lengths or shapes) is deprecated. If you meant to do this, you must specify 'dtype=object' when creating the ndarray\n",
      "  x_test, y_test = np.array(xs[idx:]), np.array(labels[idx:])\n"
     ]
    }
   ],
   "source": [
    "( x_train, y_train ), (x_test, y_train) = imdb.load_data(\n",
    "    num_words=max_features\n",
    ")"
   ]
  },
  {
   "cell_type": "code",
   "execution_count": 14,
   "id": "falling-trademark",
   "metadata": {},
   "outputs": [],
   "source": [
    "x_train = preprocessing.sequence.pad_sequences(x_train, maxlen=maxlen)"
   ]
  },
  {
   "cell_type": "code",
   "execution_count": 15,
   "id": "third-granny",
   "metadata": {},
   "outputs": [],
   "source": [
    "x_test = preprocessing.sequence.pad_sequences(x_test, maxlen=maxlen)"
   ]
  },
  {
   "cell_type": "code",
   "execution_count": 20,
   "id": "elder-inspector",
   "metadata": {},
   "outputs": [
    {
     "name": "stdout",
     "output_type": "stream",
     "text": [
      "Model: \"sequential_2\"\n",
      "_________________________________________________________________\n",
      "Layer (type)                 Output Shape              Param #   \n",
      "=================================================================\n",
      "embedding_2 (Embedding)      (None, 20, 8)             80000     \n",
      "_________________________________________________________________\n",
      "flatten_2 (Flatten)          (None, 160)               0         \n",
      "_________________________________________________________________\n",
      "dense_2 (Dense)              (None, 1)                 161       \n",
      "=================================================================\n",
      "Total params: 80,161\n",
      "Trainable params: 80,161\n",
      "Non-trainable params: 0\n",
      "_________________________________________________________________\n",
      "Epoch 1/10\n",
      "625/625 [==============================] - 2s 2ms/step - loss: 0.6932 - acc: 0.5079 - val_loss: 0.6928 - val_acc: 0.5100\n",
      "Epoch 2/10\n",
      "625/625 [==============================] - 1s 2ms/step - loss: 0.6821 - acc: 0.6360 - val_loss: 0.6934 - val_acc: 0.5098\n",
      "Epoch 3/10\n",
      "625/625 [==============================] - 1s 2ms/step - loss: 0.6597 - acc: 0.6853 - val_loss: 0.6967 - val_acc: 0.5082\n",
      "Epoch 4/10\n",
      "625/625 [==============================] - 1s 2ms/step - loss: 0.6252 - acc: 0.7197 - val_loss: 0.7054 - val_acc: 0.5064\n",
      "Epoch 5/10\n",
      "625/625 [==============================] - 1s 2ms/step - loss: 0.5844 - acc: 0.7511 - val_loss: 0.7192 - val_acc: 0.5106\n",
      "Epoch 6/10\n",
      "625/625 [==============================] - 1s 2ms/step - loss: 0.5399 - acc: 0.7784 - val_loss: 0.7372 - val_acc: 0.5136\n",
      "Epoch 7/10\n",
      "625/625 [==============================] - 1s 2ms/step - loss: 0.4974 - acc: 0.7987 - val_loss: 0.7594 - val_acc: 0.5110\n",
      "Epoch 8/10\n",
      "625/625 [==============================] - 1s 2ms/step - loss: 0.4627 - acc: 0.8161 - val_loss: 0.7835 - val_acc: 0.5062\n",
      "Epoch 9/10\n",
      "625/625 [==============================] - 1s 2ms/step - loss: 0.4246 - acc: 0.8295 - val_loss: 0.8098 - val_acc: 0.5096\n",
      "Epoch 10/10\n",
      "625/625 [==============================] - 1s 2ms/step - loss: 0.3976 - acc: 0.8436 - val_loss: 0.8377 - val_acc: 0.5110\n"
     ]
    }
   ],
   "source": [
    "imdb_model = init_model(x_train, y_train)"
   ]
  },
  {
   "cell_type": "code",
   "execution_count": 26,
   "id": "functional-reference",
   "metadata": {},
   "outputs": [],
   "source": [
    "accur = imdb_model.history[\"acc\"]\n",
    "val_acc = imdb_model.history[\"val_acc\"]"
   ]
  },
  {
   "cell_type": "code",
   "execution_count": 27,
   "id": "warming-surprise",
   "metadata": {},
   "outputs": [],
   "source": [
    "loss = imdb_model.history[\"loss\"]\n",
    "val_loss = imdb_model.history[\"val_loss\"]"
   ]
  },
  {
   "cell_type": "code",
   "execution_count": 28,
   "id": "descending-anniversary",
   "metadata": {},
   "outputs": [],
   "source": [
    "epochs = range(1, len(accur) + 1)"
   ]
  },
  {
   "cell_type": "markdown",
   "id": "every-religious",
   "metadata": {},
   "source": [
    "## Visualization"
   ]
  },
  {
   "cell_type": "code",
   "execution_count": 37,
   "id": "suspected-enough",
   "metadata": {},
   "outputs": [
    {
     "data": {
      "image/png": "[encoded data removed]",
      "text/plain": [
       "<Figure size 432x288 with 1 Axes>"
      ]
     },
     "metadata": {
      "needs_background": "light"
     },
     "output_type": "display_data"
    }
   ],
   "source": [
    "plot_training(epochs, accur, val_acc, \"Exactitude\")"
   ]
  },
  {
   "cell_type": "code",
   "execution_count": 38,
   "id": "quarterly-privacy",
   "metadata": {},
   "outputs": [
    {
     "data": {
      "image/png": "[encoded data removed]",
      "text/plain": [
       "<Figure size 432x288 with 1 Axes>"
      ]
     },
     "metadata": {
      "needs_background": "light"
     },
     "output_type": "display_data"
    }
   ],
   "source": [
    "plot_training(epochs, loss, val_loss, \"Perte\")"
   ]
  },
  {
   "cell_type": "code",
   "execution_count": null,
   "id": "level-pattern",
   "metadata": {},
   "outputs": [],
   "source": []
  }
 ],
 "metadata": {
  "kernelspec": {
   "display_name": "Python 3",
   "language": "python",
   "name": "python3"
  },
  "language_info": {
   "codemirror_mode": {
    "name": "ipython",
    "version": 3
   },
   "file_extension": ".py",
   "mimetype": "text/x-python",
   "name": "python",
   "nbconvert_exporter": "python",
   "pygments_lexer": "ipython3",
   "version": "3.8.6"
  }
 },
 "nbformat": 4,
 "nbformat_minor": 5
}

{
  "nbformat": 4,
  "nbformat_minor": 0,
  "metadata": {
    "colab": {
      "name": "Tensorflow_Automatic_Differentiation.ipynb",
      "provenance": []
    },
    "kernelspec": {
      "name": "python3",
      "display_name": "Python 3"
    },
    "language_info": {
      "name": "python"
    }
  },
  "cells": [
    {
      "cell_type": "markdown",
      "source": [
        "# Automatic Differentation"
      ],
      "metadata": {
        "id": "Kp5APN86E2NH"
      }
    },
    {
      "cell_type": "code",
      "execution_count": 26,
      "metadata": {
        "id": "p6KjElmGhcOH"
      },
      "outputs": [],
      "source": [
        "import tensorflow as tf\n",
        "from tensorflow import Variable, GradientTape, reduce_mean"
      ]
    },
    {
      "cell_type": "code",
      "source": [
        "import numpy as np"
      ],
      "metadata": {
        "id": "9cPTGPp3hiWa"
      },
      "execution_count": 2,
      "outputs": []
    },
    {
      "cell_type": "code",
      "source": [
        "import matplotlib.pyplot as plt"
      ],
      "metadata": {
        "id": "mmyHqS0nnUTx"
      },
      "execution_count": 17,
      "outputs": []
    },
    {
      "cell_type": "code",
      "source": [
        "x = Variable(1.0)"
      ],
      "metadata": {
        "id": "eevCKvWlhiYy"
      },
      "execution_count": 4,
      "outputs": []
    },
    {
      "cell_type": "code",
      "source": [
        "# "
      ],
      "metadata": {
        "id": "XxbbxcxcmSHF"
      },
      "execution_count": 16,
      "outputs": []
    },
    {
      "cell_type": "code",
      "source": [
        "def f(x):\n",
        "  y = x**2 + 2*x - 5\n",
        "  return y"
      ],
      "metadata": {
        "id": "TLsv6AtahibV"
      },
      "execution_count": 6,
      "outputs": []
    },
    {
      "cell_type": "code",
      "source": [
        "f(x).numpy()"
      ],
      "metadata": {
        "colab": {
          "base_uri": "https://localhost:8080/"
        },
        "id": "ufmj2lDDh3vE",
        "outputId": "2f7810c1-4450-4145-d59d-8e88cf797a68"
      },
      "execution_count": 8,
      "outputs": [
        {
          "output_type": "execute_result",
          "data": {
            "text/plain": [
              "-2.0"
            ]
          },
          "metadata": {},
          "execution_count": 8
        }
      ]
    },
    {
      "cell_type": "markdown",
      "source": [
        "Pour `x = 1.0`\n",
        "\n",
        "Notre `y = f(x) = (1**2 + 2*1 - 5) = -2`."
      ],
      "metadata": {
        "id": "D3Qm-SqJis4I"
      }
    },
    {
      "cell_type": "markdown",
      "source": [
        "La dérivée de `y` est `y' = f'(x) = (2*x + 2) = 4`. TensorFlow peut la calculer automatiquement :"
      ],
      "metadata": {
        "id": "N1IWxWHgjHbk"
      }
    },
    {
      "cell_type": "code",
      "source": [
        "with GradientTape() as tape:\n",
        "    y = f(x)\n",
        "\n",
        "g_x = tape.gradient(y, x)"
      ],
      "metadata": {
        "id": "8WTn9Rckh3xp"
      },
      "execution_count": 12,
      "outputs": []
    },
    {
      "cell_type": "code",
      "source": [
        "g_x.numpy()"
      ],
      "metadata": {
        "colab": {
          "base_uri": "https://localhost:8080/"
        },
        "id": "-T5BVf6Bh3zv",
        "outputId": "8030e9bd-0b65-4c59-c275-4fa11d50fbca"
      },
      "execution_count": 14,
      "outputs": [
        {
          "output_type": "execute_result",
          "data": {
            "text/plain": [
              "4.0"
            ]
          },
          "metadata": {},
          "execution_count": 14
        }
      ]
    },
    {
      "cell_type": "markdown",
      "source": [
        "## Computig of grandient with `GradientTape()`"
      ],
      "metadata": {
        "id": "HayqDUkKrAsQ"
      }
    },
    {
      "cell_type": "code",
      "source": [
        "new_x = Variable(3.0)"
      ],
      "metadata": {
        "id": "Rtwi-lAxh32A"
      },
      "execution_count": 18,
      "outputs": []
    },
    {
      "cell_type": "code",
      "source": [
        "with GradientTape() as tape:\n",
        "  y = new_x**2"
      ],
      "metadata": {
        "id": "KIzmCj-2rN8E"
      },
      "execution_count": 19,
      "outputs": []
    },
    {
      "cell_type": "code",
      "source": [
        "dy_dx = tape.gradient(y, new_x)"
      ],
      "metadata": {
        "id": "1yn82VETrN-v"
      },
      "execution_count": 20,
      "outputs": []
    },
    {
      "cell_type": "code",
      "source": [
        "dy_dx.numpy()"
      ],
      "metadata": {
        "colab": {
          "base_uri": "https://localhost:8080/"
        },
        "id": "qwKRGtYgrOCA",
        "outputId": "873798ea-e32a-4b7a-952e-5a8519500fb9"
      },
      "execution_count": 21,
      "outputs": [
        {
          "output_type": "execute_result",
          "data": {
            "text/plain": [
              "6.0"
            ]
          },
          "metadata": {},
          "execution_count": 21
        }
      ]
    },
    {
      "cell_type": "code",
      "source": [
        "w = Variable(tf.random.normal((3,2)), name='w')\n",
        "b = Variable(tf.zeros(2, dtype='float32'), name='b')\n",
        "x = [[1., 2., 3.]]"
      ],
      "metadata": {
        "id": "Mho2oYeurOIN"
      },
      "execution_count": 25,
      "outputs": []
    },
    {
      "cell_type": "code",
      "source": [
        "with GradientTape(persistent=True) as tape:\n",
        "  y = x @ w + b\n",
        "  loss = reduce_mean(y**2)"
      ],
      "metadata": {
        "id": "0BPefHDLrOML"
      },
      "execution_count": 27,
      "outputs": []
    },
    {
      "cell_type": "code",
      "source": [
        "[dl_dw, dl_db] = tape.gradient(loss, [w,b])"
      ],
      "metadata": {
        "id": "NAiRCe0Ls6o7"
      },
      "execution_count": 28,
      "outputs": []
    },
    {
      "cell_type": "code",
      "source": [
        "print(w.shape)\n",
        "print(dl_dw.shape)"
      ],
      "metadata": {
        "colab": {
          "base_uri": "https://localhost:8080/"
        },
        "id": "N5vtMziGs6rV",
        "outputId": "64cca049-014d-4535-eac6-759ca3706b78"
      },
      "execution_count": 30,
      "outputs": [
        {
          "output_type": "stream",
          "name": "stdout",
          "text": [
            "(3, 2)\n",
            "(3, 2)\n"
          ]
        }
      ]
    },
    {
      "cell_type": "code",
      "source": [
        ""
      ],
      "metadata": {
        "id": "Phv85T3ws6t0"
      },
      "execution_count": null,
      "outputs": []
    },
    {
      "cell_type": "markdown",
      "source": [
        "## Contrôler ce que la bande regarde\n",
        "Le comportement par défaut est d'enregistrer toutes les opérations après avoir accédé à une tf.Variable entraînable. Les raisons de ce comportement sont les suivantes :\n",
        "\n",
        "La bande doit savoir quelles opérations enregistrer dans la passe avant pour calculer les gradients dans la passe arrière.\n",
        "La bande contient des références aux sorties intermédiaires, donc vous ne voulez pas enregistrer des opérations inutiles.\n",
        "Le cas d'utilisation le plus courant consiste à calculer le gradient d'une perte par rapport à toutes les variables entraînables d'un modèle.\n",
        "Par exemple, l'exemple suivant échoue à calculer un gradient parce que le tf.Tensor n'est pas \"surveillé\" par défaut, et le tf.Variable n'est pas entraînable :"
      ],
      "metadata": {
        "id": "BwcDpI5_D-Ks"
      }
    },
    {
      "cell_type": "code",
      "source": [
        ""
      ],
      "metadata": {
        "id": "8oWBKLEjEBi_"
      },
      "execution_count": null,
      "outputs": []
    }
  ]
}
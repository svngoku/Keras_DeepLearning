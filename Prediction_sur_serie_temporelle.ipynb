{
  "nbformat": 4,
  "nbformat_minor": 0,
  "metadata": {
    "colab": {
      "name": "Prediction_sur_serie_temporelle.ipynb",
      "provenance": []
    },
    "kernelspec": {
      "name": "python3",
      "display_name": "Python 3"
    }
  },
  "cells": [
    {
      "cell_type": "markdown",
      "metadata": {
        "id": "TloVinbl0Wsv"
      },
      "source": [
        "# Prédiction sur les série temporelle"
      ]
    },
    {
      "cell_type": "markdown",
      "metadata": {
        "id": "3Mgi_0Kx0fZu"
      },
      "source": [
        "**Tâche : Importer les bibliothèques de base que vous pensez utiliser**"
      ]
    },
    {
      "cell_type": "code",
      "metadata": {
        "id": "nK_0wOAj0kke"
      },
      "source": [
        "import pandas as pd\n",
        "import numpy as np\n",
        "\n",
        "import matplotlib.pyplot as plt"
      ],
      "execution_count": 1,
      "outputs": []
    },
    {
      "cell_type": "markdown",
      "metadata": {
        "id": "ODCImNTx0tgY"
      },
      "source": [
        "## Données\n",
        "\n",
        "Informations sur cet ensemble de données : https://fred.stlouisfed.org/series/IPN31152N\n",
        "\n",
        "\n",
        "Unités :  Indice 2012=100, pas d'ajustement de saisonnalité\n",
        "\n",
        "Fréquence :  Mensuelle\n",
        "\n",
        "L'indice de production industrielle (IP) mesure la production réelle de tous les établissements concernés situés aux États-Unis, quel que soit leur propriétaire, mais pas ceux situés sur le territoire américain.\n",
        "\n",
        "SCIAN = 31152\n",
        "\n",
        "Code source : IP.N31152.N\n",
        "\n",
        "Citation suggérée :\n",
        "Conseil des gouverneurs de la Réserve fédérale (États-Unis), Production industrielle : Biens non durables : Glaces et desserts glacés [IPN31152N], extrait de FRED, Federal Reserve Bank of St. Louis ; https://fred.stlouisfed.org/series/IPN31152N, 16 novembre 2019."
      ]
    },
    {
      "cell_type": "markdown",
      "metadata": {
        "id": "LAVgxzpz1Gl2"
      },
      "source": [
        "# Tâches du projet\n",
        "\n",
        "**Tâche : Lire le dataset de votre choix contenant des données sur des série temporelle. Trouvez comment définir la date en tant qu'index de colonne datetime**"
      ]
    },
    {
      "cell_type": "markdown",
      "source": [
        ""
      ],
      "metadata": {
        "id": "3n7kIw3TEZxq"
      }
    },
    {
      "cell_type": "code",
      "source": [
        "consumer_df = pd.read_csv(\"Consumer_Price_Index_for_All_Urban_Consumers.csv\",index_col='DATE',parse_dates=True)"
      ],
      "metadata": {
        "id": "ji8A26gCsGrh"
      },
      "execution_count": 2,
      "outputs": []
    },
    {
      "cell_type": "code",
      "source": [
        "consumer_df.head()"
      ],
      "metadata": {
        "colab": {
          "base_uri": "https://localhost:8080/",
          "height": 237
        },
        "id": "HvzVy7-QsQP7",
        "outputId": "0a40e591-4d3f-43ab-bb62-768ad147fdbb"
      },
      "execution_count": 3,
      "outputs": [
        {
          "output_type": "execute_result",
          "data": {
            "text/plain": [
              "            CPIAUCSL\n",
              "DATE                \n",
              "1947-01-01     21.48\n",
              "1947-02-01     21.62\n",
              "1947-03-01     22.00\n",
              "1947-04-01     22.00\n",
              "1947-05-01     21.95"
            ],
            "text/html": [
              "\n",
              "  <div id=\"df-3b2dcc55-8c06-46f0-9e2e-a3a8e6aa15dc\">\n",
              "    <div class=\"colab-df-container\">\n",
              "      <div>\n",
              "<style scoped>\n",
              "    .dataframe tbody tr th:only-of-type {\n",
              "        vertical-align: middle;\n",
              "    }\n",
              "\n",
              "    .dataframe tbody tr th {\n",
              "        vertical-align: top;\n",
              "    }\n",
              "\n",
              "    .dataframe thead th {\n",
              "        text-align: right;\n",
              "    }\n",
              "</style>\n",
              "<table border=\"1\" class=\"dataframe\">\n",
              "  <thead>\n",
              "    <tr style=\"text-align: right;\">\n",
              "      <th></th>\n",
              "      <th>CPIAUCSL</th>\n",
              "    </tr>\n",
              "    <tr>\n",
              "      <th>DATE</th>\n",
              "      <th></th>\n",
              "    </tr>\n",
              "  </thead>\n",
              "  <tbody>\n",
              "    <tr>\n",
              "      <th>1947-01-01</th>\n",
              "      <td>21.48</td>\n",
              "    </tr>\n",
              "    <tr>\n",
              "      <th>1947-02-01</th>\n",
              "      <td>21.62</td>\n",
              "    </tr>\n",
              "    <tr>\n",
              "      <th>1947-03-01</th>\n",
              "      <td>22.00</td>\n",
              "    </tr>\n",
              "    <tr>\n",
              "      <th>1947-04-01</th>\n",
              "      <td>22.00</td>\n",
              "    </tr>\n",
              "    <tr>\n",
              "      <th>1947-05-01</th>\n",
              "      <td>21.95</td>\n",
              "    </tr>\n",
              "  </tbody>\n",
              "</table>\n",
              "</div>\n",
              "      <button class=\"colab-df-convert\" onclick=\"convertToInteractive('df-3b2dcc55-8c06-46f0-9e2e-a3a8e6aa15dc')\"\n",
              "              title=\"Convert this dataframe to an interactive table.\"\n",
              "              style=\"display:none;\">\n",
              "        \n",
              "  <svg xmlns=\"http://www.w3.org/2000/svg\" height=\"24px\"viewBox=\"0 0 24 24\"\n",
              "       width=\"24px\">\n",
              "    <path d=\"M0 0h24v24H0V0z\" fill=\"none\"/>\n",
              "    <path d=\"M18.56 5.44l.94 2.06.94-2.06 2.06-.94-2.06-.94-.94-2.06-.94 2.06-2.06.94zm-11 1L8.5 8.5l.94-2.06 2.06-.94-2.06-.94L8.5 2.5l-.94 2.06-2.06.94zm10 10l.94 2.06.94-2.06 2.06-.94-2.06-.94-.94-2.06-.94 2.06-2.06.94z\"/><path d=\"M17.41 7.96l-1.37-1.37c-.4-.4-.92-.59-1.43-.59-.52 0-1.04.2-1.43.59L10.3 9.45l-7.72 7.72c-.78.78-.78 2.05 0 2.83L4 21.41c.39.39.9.59 1.41.59.51 0 1.02-.2 1.41-.59l7.78-7.78 2.81-2.81c.8-.78.8-2.07 0-2.86zM5.41 20L4 18.59l7.72-7.72 1.47 1.35L5.41 20z\"/>\n",
              "  </svg>\n",
              "      </button>\n",
              "      \n",
              "  <style>\n",
              "    .colab-df-container {\n",
              "      display:flex;\n",
              "      flex-wrap:wrap;\n",
              "      gap: 12px;\n",
              "    }\n",
              "\n",
              "    .colab-df-convert {\n",
              "      background-color: #E8F0FE;\n",
              "      border: none;\n",
              "      border-radius: 50%;\n",
              "      cursor: pointer;\n",
              "      display: none;\n",
              "      fill: #1967D2;\n",
              "      height: 32px;\n",
              "      padding: 0 0 0 0;\n",
              "      width: 32px;\n",
              "    }\n",
              "\n",
              "    .colab-df-convert:hover {\n",
              "      background-color: #E2EBFA;\n",
              "      box-shadow: 0px 1px 2px rgba(60, 64, 67, 0.3), 0px 1px 3px 1px rgba(60, 64, 67, 0.15);\n",
              "      fill: #174EA6;\n",
              "    }\n",
              "\n",
              "    [theme=dark] .colab-df-convert {\n",
              "      background-color: #3B4455;\n",
              "      fill: #D2E3FC;\n",
              "    }\n",
              "\n",
              "    [theme=dark] .colab-df-convert:hover {\n",
              "      background-color: #434B5C;\n",
              "      box-shadow: 0px 1px 3px 1px rgba(0, 0, 0, 0.15);\n",
              "      filter: drop-shadow(0px 1px 2px rgba(0, 0, 0, 0.3));\n",
              "      fill: #FFFFFF;\n",
              "    }\n",
              "  </style>\n",
              "\n",
              "      <script>\n",
              "        const buttonEl =\n",
              "          document.querySelector('#df-3b2dcc55-8c06-46f0-9e2e-a3a8e6aa15dc button.colab-df-convert');\n",
              "        buttonEl.style.display =\n",
              "          google.colab.kernel.accessAllowed ? 'block' : 'none';\n",
              "\n",
              "        async function convertToInteractive(key) {\n",
              "          const element = document.querySelector('#df-3b2dcc55-8c06-46f0-9e2e-a3a8e6aa15dc');\n",
              "          const dataTable =\n",
              "            await google.colab.kernel.invokeFunction('convertToInteractive',\n",
              "                                                     [key], {});\n",
              "          if (!dataTable) return;\n",
              "\n",
              "          const docLinkHtml = 'Like what you see? Visit the ' +\n",
              "            '<a target=\"_blank\" href=https://colab.research.google.com/notebooks/data_table.ipynb>data table notebook</a>'\n",
              "            + ' to learn more about interactive tables.';\n",
              "          element.innerHTML = '';\n",
              "          dataTable['output_type'] = 'display_data';\n",
              "          await google.colab.output.renderOutput(dataTable, element);\n",
              "          const docLink = document.createElement('div');\n",
              "          docLink.innerHTML = docLinkHtml;\n",
              "          element.appendChild(docLink);\n",
              "        }\n",
              "      </script>\n",
              "    </div>\n",
              "  </div>\n",
              "  "
            ]
          },
          "metadata": {},
          "execution_count": 3
        }
      ]
    },
    {
      "cell_type": "markdown",
      "metadata": {
        "id": "43nrsSuL1tLR"
      },
      "source": [
        "**Tâche : Changer le nom de la colonne avec le nom Consommation**"
      ]
    },
    {
      "cell_type": "code",
      "source": [
        "consumer_df.columns = [\"Consommation\"]"
      ],
      "metadata": {
        "id": "_CG2faxEsWjL"
      },
      "execution_count": 4,
      "outputs": []
    },
    {
      "cell_type": "code",
      "source": [
        "consumer_df.head()"
      ],
      "metadata": {
        "colab": {
          "base_uri": "https://localhost:8080/",
          "height": 237
        },
        "id": "UVpGb6TJscYD",
        "outputId": "68e8dab1-0f49-4879-c77d-a46423fd8f9e"
      },
      "execution_count": 5,
      "outputs": [
        {
          "output_type": "execute_result",
          "data": {
            "text/plain": [
              "            Consommation\n",
              "DATE                    \n",
              "1947-01-01         21.48\n",
              "1947-02-01         21.62\n",
              "1947-03-01         22.00\n",
              "1947-04-01         22.00\n",
              "1947-05-01         21.95"
            ],
            "text/html": [
              "\n",
              "  <div id=\"df-7de36e43-3c34-4031-bcf8-e3cc143be7b4\">\n",
              "    <div class=\"colab-df-container\">\n",
              "      <div>\n",
              "<style scoped>\n",
              "    .dataframe tbody tr th:only-of-type {\n",
              "        vertical-align: middle;\n",
              "    }\n",
              "\n",
              "    .dataframe tbody tr th {\n",
              "        vertical-align: top;\n",
              "    }\n",
              "\n",
              "    .dataframe thead th {\n",
              "        text-align: right;\n",
              "    }\n",
              "</style>\n",
              "<table border=\"1\" class=\"dataframe\">\n",
              "  <thead>\n",
              "    <tr style=\"text-align: right;\">\n",
              "      <th></th>\n",
              "      <th>Consommation</th>\n",
              "    </tr>\n",
              "    <tr>\n",
              "      <th>DATE</th>\n",
              "      <th></th>\n",
              "    </tr>\n",
              "  </thead>\n",
              "  <tbody>\n",
              "    <tr>\n",
              "      <th>1947-01-01</th>\n",
              "      <td>21.48</td>\n",
              "    </tr>\n",
              "    <tr>\n",
              "      <th>1947-02-01</th>\n",
              "      <td>21.62</td>\n",
              "    </tr>\n",
              "    <tr>\n",
              "      <th>1947-03-01</th>\n",
              "      <td>22.00</td>\n",
              "    </tr>\n",
              "    <tr>\n",
              "      <th>1947-04-01</th>\n",
              "      <td>22.00</td>\n",
              "    </tr>\n",
              "    <tr>\n",
              "      <th>1947-05-01</th>\n",
              "      <td>21.95</td>\n",
              "    </tr>\n",
              "  </tbody>\n",
              "</table>\n",
              "</div>\n",
              "      <button class=\"colab-df-convert\" onclick=\"convertToInteractive('df-7de36e43-3c34-4031-bcf8-e3cc143be7b4')\"\n",
              "              title=\"Convert this dataframe to an interactive table.\"\n",
              "              style=\"display:none;\">\n",
              "        \n",
              "  <svg xmlns=\"http://www.w3.org/2000/svg\" height=\"24px\"viewBox=\"0 0 24 24\"\n",
              "       width=\"24px\">\n",
              "    <path d=\"M0 0h24v24H0V0z\" fill=\"none\"/>\n",
              "    <path d=\"M18.56 5.44l.94 2.06.94-2.06 2.06-.94-2.06-.94-.94-2.06-.94 2.06-2.06.94zm-11 1L8.5 8.5l.94-2.06 2.06-.94-2.06-.94L8.5 2.5l-.94 2.06-2.06.94zm10 10l.94 2.06.94-2.06 2.06-.94-2.06-.94-.94-2.06-.94 2.06-2.06.94z\"/><path d=\"M17.41 7.96l-1.37-1.37c-.4-.4-.92-.59-1.43-.59-.52 0-1.04.2-1.43.59L10.3 9.45l-7.72 7.72c-.78.78-.78 2.05 0 2.83L4 21.41c.39.39.9.59 1.41.59.51 0 1.02-.2 1.41-.59l7.78-7.78 2.81-2.81c.8-.78.8-2.07 0-2.86zM5.41 20L4 18.59l7.72-7.72 1.47 1.35L5.41 20z\"/>\n",
              "  </svg>\n",
              "      </button>\n",
              "      \n",
              "  <style>\n",
              "    .colab-df-container {\n",
              "      display:flex;\n",
              "      flex-wrap:wrap;\n",
              "      gap: 12px;\n",
              "    }\n",
              "\n",
              "    .colab-df-convert {\n",
              "      background-color: #E8F0FE;\n",
              "      border: none;\n",
              "      border-radius: 50%;\n",
              "      cursor: pointer;\n",
              "      display: none;\n",
              "      fill: #1967D2;\n",
              "      height: 32px;\n",
              "      padding: 0 0 0 0;\n",
              "      width: 32px;\n",
              "    }\n",
              "\n",
              "    .colab-df-convert:hover {\n",
              "      background-color: #E2EBFA;\n",
              "      box-shadow: 0px 1px 2px rgba(60, 64, 67, 0.3), 0px 1px 3px 1px rgba(60, 64, 67, 0.15);\n",
              "      fill: #174EA6;\n",
              "    }\n",
              "\n",
              "    [theme=dark] .colab-df-convert {\n",
              "      background-color: #3B4455;\n",
              "      fill: #D2E3FC;\n",
              "    }\n",
              "\n",
              "    [theme=dark] .colab-df-convert:hover {\n",
              "      background-color: #434B5C;\n",
              "      box-shadow: 0px 1px 3px 1px rgba(0, 0, 0, 0.15);\n",
              "      filter: drop-shadow(0px 1px 2px rgba(0, 0, 0, 0.3));\n",
              "      fill: #FFFFFF;\n",
              "    }\n",
              "  </style>\n",
              "\n",
              "      <script>\n",
              "        const buttonEl =\n",
              "          document.querySelector('#df-7de36e43-3c34-4031-bcf8-e3cc143be7b4 button.colab-df-convert');\n",
              "        buttonEl.style.display =\n",
              "          google.colab.kernel.accessAllowed ? 'block' : 'none';\n",
              "\n",
              "        async function convertToInteractive(key) {\n",
              "          const element = document.querySelector('#df-7de36e43-3c34-4031-bcf8-e3cc143be7b4');\n",
              "          const dataTable =\n",
              "            await google.colab.kernel.invokeFunction('convertToInteractive',\n",
              "                                                     [key], {});\n",
              "          if (!dataTable) return;\n",
              "\n",
              "          const docLinkHtml = 'Like what you see? Visit the ' +\n",
              "            '<a target=\"_blank\" href=https://colab.research.google.com/notebooks/data_table.ipynb>data table notebook</a>'\n",
              "            + ' to learn more about interactive tables.';\n",
              "          element.innerHTML = '';\n",
              "          dataTable['output_type'] = 'display_data';\n",
              "          await google.colab.output.renderOutput(dataTable, element);\n",
              "          const docLink = document.createElement('div');\n",
              "          docLink.innerHTML = docLinkHtml;\n",
              "          element.appendChild(docLink);\n",
              "        }\n",
              "      </script>\n",
              "    </div>\n",
              "  </div>\n",
              "  "
            ]
          },
          "metadata": {},
          "execution_count": 5
        }
      ]
    },
    {
      "cell_type": "markdown",
      "metadata": {
        "id": "ZQE0AlDG156E"
      },
      "source": [
        "**Tâche : Tracer les séries temporelles**"
      ]
    },
    {
      "cell_type": "code",
      "source": [
        "consumer_df.plot(figsize=(12,8))"
      ],
      "metadata": {
        "colab": {
          "base_uri": "https://localhost:8080/",
          "height": 515
        },
        "id": "bznfk6FhsifU",
        "outputId": "9c9c714d-a349-4311-ebc2-55a7ca70124e"
      },
      "execution_count": 6,
      "outputs": [
        {
          "output_type": "execute_result",
          "data": {
            "text/plain": [
              "<matplotlib.axes._subplots.AxesSubplot at 0x7f2d1540ed10>"
            ]
          },
          "metadata": {},
          "execution_count": 6
        },
        {
          "output_type": "display_data",
          "data": {
            "text/plain": [
              "<Figure size 864x576 with 1 Axes>"
            ],
            "image/png": "[encoded data removed]"
          },
          "metadata": {
            "needs_background": "light"
          }
        }
      ]
    },
    {
      "cell_type": "markdown",
      "metadata": {
        "id": "47ZmRR_S1_9Q"
      },
      "source": [
        "## Répartition Entraînement / Test"
      ]
    },
    {
      "cell_type": "markdown",
      "metadata": {
        "id": "bD2r8EqG3PI2"
      },
      "source": [
        "**Tâche : Déterminer la longueur (taille) du dataset**"
      ]
    },
    {
      "cell_type": "code",
      "source": [
        "len(consumer_df)"
      ],
      "metadata": {
        "colab": {
          "base_uri": "https://localhost:8080/"
        },
        "id": "sm77Hru3soiE",
        "outputId": "eb8891ca-3cf4-433e-8edf-6e9fc5c8bccf"
      },
      "execution_count": 7,
      "outputs": [
        {
          "output_type": "execute_result",
          "data": {
            "text/plain": [
              "905"
            ]
          },
          "metadata": {},
          "execution_count": 7
        }
      ]
    },
    {
      "cell_type": "markdown",
      "metadata": {
        "id": "nEAHtKat3eXT"
      },
      "source": [
        "**Tâche : Diviser les données en un set d'entraînement et un set de test où l'ensemble de test correspond aux données des 24 derniers mois.**"
      ]
    },
    {
      "cell_type": "code",
      "source": [
        "test_size = 24 # periode de 24 mois soit 2 ans\n",
        "test_ind = len(consumer_df) - test_size"
      ],
      "metadata": {
        "id": "dRNMFY_1srQ-"
      },
      "execution_count": 8,
      "outputs": []
    },
    {
      "cell_type": "code",
      "source": [
        "train = consumer_df.iloc[:test_ind]\n",
        "test = consumer_df.iloc[test_ind:]"
      ],
      "metadata": {
        "id": "BpyRZny9sxYr"
      },
      "execution_count": 9,
      "outputs": []
    },
    {
      "cell_type": "code",
      "source": [
        "len(train)"
      ],
      "metadata": {
        "colab": {
          "base_uri": "https://localhost:8080/"
        },
        "id": "3ut3lx0Jobh2",
        "outputId": "6624781a-1686-44e3-f916-198e51e00f1e"
      },
      "execution_count": 10,
      "outputs": [
        {
          "output_type": "execute_result",
          "data": {
            "text/plain": [
              "881"
            ]
          },
          "metadata": {},
          "execution_count": 10
        }
      ]
    },
    {
      "cell_type": "code",
      "metadata": {
        "id": "DQf0iKx33tBO",
        "outputId": "fe23c665-1c2a-45f5-aa7d-8da26f970f13",
        "colab": {
          "base_uri": "https://localhost:8080/"
        }
      },
      "source": [
        "len(test)"
      ],
      "execution_count": 11,
      "outputs": [
        {
          "output_type": "execute_result",
          "data": {
            "text/plain": [
              "24"
            ]
          },
          "metadata": {},
          "execution_count": 11
        }
      ]
    },
    {
      "cell_type": "markdown",
      "metadata": {
        "id": "jJrn1P263v_G"
      },
      "source": [
        "## Mise à l'échelle des données"
      ]
    },
    {
      "cell_type": "markdown",
      "metadata": {
        "id": "a8Ef12Mj33CS"
      },
      "source": [
        "**Tâche : Utiliser MinMaxScaler pour mettre à l'échelle les ensembles de données d'entraînement et de test dans leurs versions mises à l'échelle.**"
      ]
    },
    {
      "cell_type": "code",
      "metadata": {
        "id": "7RL7BkG04Eoo"
      },
      "source": [
        "from sklearn.preprocessing import MinMaxScaler"
      ],
      "execution_count": 12,
      "outputs": []
    },
    {
      "cell_type": "code",
      "metadata": {
        "id": "JK8tgYxX4HDr"
      },
      "source": [
        "scaler = MinMaxScaler()"
      ],
      "execution_count": 13,
      "outputs": []
    },
    {
      "cell_type": "code",
      "metadata": {
        "id": "LG9Lw5Oc4Ibv",
        "outputId": "3d7674eb-976a-4948-df00-6f925fce6ec5",
        "colab": {
          "base_uri": "https://localhost:8080/"
        }
      },
      "source": [
        "# Si warning, ignorez le, cest juste une conversion en float\n",
        "# Adapter uniquement aux données d'entraînement, sinon nous trichons en supposant des informations sur les données test\n",
        "scaler.fit(train)"
      ],
      "execution_count": 14,
      "outputs": [
        {
          "output_type": "execute_result",
          "data": {
            "text/plain": [
              "MinMaxScaler()"
            ]
          },
          "metadata": {},
          "execution_count": 14
        }
      ]
    },
    {
      "cell_type": "code",
      "metadata": {
        "id": "lbkT0z2L4X19"
      },
      "source": [
        "scaled_train = scaler.transform(train)\n",
        "scaled_test = scaler.transform(test)"
      ],
      "execution_count": 15,
      "outputs": []
    },
    {
      "cell_type": "markdown",
      "metadata": {
        "id": "U4jMXi2d4c-i"
      },
      "source": [
        "## Générateur de séries temporelles\n",
        "\n",
        "**Tâche : Créer un objet TimeSeriesGenerator qui se base sur les données scaled_train. La longueur du batch dépend de vous, mais elle doit être au minimum de 18 pour saisir une saisonnalité d'une année complète.**"
      ]
    },
    {
      "cell_type": "code",
      "metadata": {
        "id": "nZt7ZK3N4vEt"
      },
      "source": [
        "from tensorflow.keras.preprocessing.sequence import TimeseriesGenerator"
      ],
      "execution_count": 16,
      "outputs": []
    },
    {
      "cell_type": "code",
      "metadata": {
        "id": "Km6m3x_-4zHe"
      },
      "source": [
        "length = 18 # batch, pour 18 mois\n",
        "n_features=1 # feature : consommation"
      ],
      "execution_count": 17,
      "outputs": []
    },
    {
      "cell_type": "code",
      "source": [
        "generator = TimeseriesGenerator(\n",
        "    scaled_train, \n",
        "    scaled_train, \n",
        "    length=length, \n",
        "    batch_size=1\n",
        ")"
      ],
      "metadata": {
        "id": "T9n_su59ooqU"
      },
      "execution_count": 18,
      "outputs": []
    },
    {
      "cell_type": "markdown",
      "metadata": {
        "id": "9TyU-JA3430m"
      },
      "source": [
        "## Création du modèle\n",
        "\n",
        "**Tâche : Créer un modèle séquentiel de Keras avec autant de neurones (units) LSTM que vous voulez et une couche Dense finale.**"
      ]
    },
    {
      "cell_type": "code",
      "metadata": {
        "id": "H_1rtKzz5Q5B"
      },
      "source": [
        "from tensorflow.keras.models import Sequential\n",
        "from tensorflow.keras.layers import Dense,LSTM"
      ],
      "execution_count": 19,
      "outputs": []
    },
    {
      "cell_type": "code",
      "metadata": {
        "id": "u6WYxLiD40j7"
      },
      "source": [
        "# définir le modèle\n",
        "model = Sequential()\n",
        "model.add(LSTM(100, activation='relu', input_shape=(length, n_features)))\n",
        "model.add(Dense(1))\n",
        "model.compile(optimizer='adam', loss='mse')"
      ],
      "execution_count": 20,
      "outputs": []
    },
    {
      "cell_type": "code",
      "metadata": {
        "id": "Iv6E8znD5OxT",
        "outputId": "d1dfa60c-0c23-449d-96f1-8b1b30d6d5bd",
        "colab": {
          "base_uri": "https://localhost:8080/"
        }
      },
      "source": [
        "model.summary()"
      ],
      "execution_count": 21,
      "outputs": [
        {
          "output_type": "stream",
          "name": "stdout",
          "text": [
            "Model: \"sequential\"\n",
            "_________________________________________________________________\n",
            " Layer (type)                Output Shape              Param #   \n",
            "=================================================================\n",
            " lstm (LSTM)                 (None, 100)               40800     \n",
            "                                                                 \n",
            " dense (Dense)               (None, 1)                 101       \n",
            "                                                                 \n",
            "=================================================================\n",
            "Total params: 40,901\n",
            "Trainable params: 40,901\n",
            "Non-trainable params: 0\n",
            "_________________________________________________________________\n"
          ]
        }
      ]
    },
    {
      "cell_type": "markdown",
      "metadata": {
        "id": "sKGXShba5Wae"
      },
      "source": [
        "**Tâche : Créer un générateur pour l'ensemble de test /validation à l'échelle. NOTE : Vérifiez que la longueur de votre batch est adaptée à la taille de l'ensemble de test, comme indiqué dans la vidéo RNN Time Series**."
      ]
    },
    {
      "cell_type": "code",
      "metadata": {
        "id": "aOHwFz1w5gMm"
      },
      "source": [
        "validation_generator = TimeseriesGenerator(\n",
        "    scaled_test,\n",
        "    scaled_test, \n",
        "    length=length, \n",
        "    batch_size=1\n",
        ")"
      ],
      "execution_count": 22,
      "outputs": []
    },
    {
      "cell_type": "markdown",
      "metadata": {
        "id": "Uk8B7i0Q5lXc"
      },
      "source": [
        "**Tâche : Créer un callback EarlyStopping qui contrôle val_loss.**"
      ]
    },
    {
      "cell_type": "code",
      "metadata": {
        "id": "SuSObQ8M5xWM"
      },
      "source": [
        "from tensorflow.keras.callbacks import EarlyStopping"
      ],
      "execution_count": 23,
      "outputs": []
    },
    {
      "cell_type": "code",
      "metadata": {
        "id": "AH38qP5M5xqa"
      },
      "source": [
        "early_stop = EarlyStopping(monitor='val_loss',patience=2)"
      ],
      "execution_count": 24,
      "outputs": []
    },
    {
      "cell_type": "markdown",
      "metadata": {
        "id": "Lkg6pw6852pY"
      },
      "source": [
        "**Tâche : Adapter le modèle au générateur, laisser le EarlyStopping dicter le nombre d'epochs, donc n'hésitez pas à régler le paramètre à un niveau élevé.**"
      ]
    },
    {
      "cell_type": "code",
      "metadata": {
        "id": "L7qSrlhg6Dhi",
        "outputId": "74ef4978-1015-41b6-b7fd-fd7487ede3ca",
        "colab": {
          "base_uri": "https://localhost:8080/"
        }
      },
      "source": [
        "# ajustement du modèle\n",
        "model.fit(\n",
        "    generator,\n",
        "    epochs=20,\n",
        "    validation_data=validation_generator,\n",
        "    callbacks=[early_stop]\n",
        ")"
      ],
      "execution_count": 25,
      "outputs": [
        {
          "output_type": "stream",
          "name": "stdout",
          "text": [
            "Epoch 1/20\n",
            "863/863 [==============================] - 11s 10ms/step - loss: 0.0049 - val_loss: 0.0011\n",
            "Epoch 2/20\n",
            "863/863 [==============================] - 6s 7ms/step - loss: 3.8850e-04 - val_loss: 0.0033\n",
            "Epoch 3/20\n",
            "863/863 [==============================] - 6s 7ms/step - loss: 1.7046e-04 - val_loss: 3.8887e-04\n",
            "Epoch 4/20\n",
            "863/863 [==============================] - 6s 7ms/step - loss: 2.7139e-04 - val_loss: 0.0067\n",
            "Epoch 5/20\n",
            "863/863 [==============================] - 7s 8ms/step - loss: 1.5918e-04 - val_loss: 0.0037\n"
          ]
        },
        {
          "output_type": "execute_result",
          "data": {
            "text/plain": [
              "<keras.callbacks.History at 0x7f2c9d9be550>"
            ]
          },
          "metadata": {},
          "execution_count": 25
        }
      ]
    },
    {
      "cell_type": "markdown",
      "metadata": {
        "id": "mFDeK5Sh6IKG"
      },
      "source": [
        "**Tâche : Tracer l'historique des pertes survenues pendant l'entraînement.**"
      ]
    },
    {
      "cell_type": "code",
      "metadata": {
        "id": "dKSZuyaR6RAd",
        "outputId": "4858a7c3-eb21-42cb-82d8-de55b444d582",
        "colab": {
          "base_uri": "https://localhost:8080/",
          "height": 286
        }
      },
      "source": [
        "loss = pd.DataFrame(model.history.history)\n",
        "loss.plot()"
      ],
      "execution_count": 27,
      "outputs": [
        {
          "output_type": "execute_result",
          "data": {
            "text/plain": [
              "<matplotlib.axes._subplots.AxesSubplot at 0x7f2c95443910>"
            ]
          },
          "metadata": {},
          "execution_count": 27
        },
        {
          "output_type": "display_data",
          "data": {
            "text/plain": [
              "<Figure size 432x288 with 1 Axes>"
            ],
            "image/png": "[encoded data removed]"
          },
          "metadata": {
            "needs_background": "light"
          }
        }
      ]
    },
    {
      "cell_type": "markdown",
      "metadata": {
        "id": "g_wvvrzt6Wkn"
      },
      "source": [
        "## Évaluation sur les données Test\n",
        "\n",
        "**Tâche : Prédictions pour votre gamme de données de test (les 12 derniers mois de l'ensemble des données). N'oubliez pas d'inverser vos transformations d'échelle. Votre résultat final doit être un DataFrame avec deux colonnes, les valeurs réelles du test et les prédictions.**"
      ]
    },
    {
      "cell_type": "code",
      "metadata": {
        "id": "9AbQAZun6ntq"
      },
      "source": [
        "test_predictions = []\n",
        "\n",
        "first_eval_batch = scaled_train[-length:]\n",
        "current_batch = first_eval_batch.reshape((1, length, n_features))\n",
        "\n",
        "for i in range(len(test)):\n",
        "    \n",
        "    # obtenir la prédiction avec 1 timestamp d'avance ([0] pour ne saisir que le nombre au lieu de [array])\n",
        "    current_pred = model.predict(current_batch)[0]\n",
        "    \n",
        "    # stocker la prédiction\n",
        "    test_predictions.append(current_pred) \n",
        "    \n",
        "    # mise à jour du batch pour inclure maintenant la prédiction et supprimer la première valeur\n",
        "    current_batch = np.append(current_batch[:,1:,:],[[current_pred]],axis=1)"
      ],
      "execution_count": 28,
      "outputs": []
    },
    {
      "cell_type": "code",
      "metadata": {
        "id": "PPKb5OiO6vMJ"
      },
      "source": [
        "true_predictions = scaler.inverse_transform(test_predictions)"
      ],
      "execution_count": 29,
      "outputs": []
    },
    {
      "cell_type": "code",
      "metadata": {
        "id": "efAfTZ1Z6xO7",
        "outputId": "cdc99b9b-a458-4c06-99e2-19fdd223f943",
        "colab": {
          "base_uri": "https://localhost:8080/"
        }
      },
      "source": [
        "# Ignorez le warning\n",
        "test['Predictions'] = true_predictions"
      ],
      "execution_count": 30,
      "outputs": [
        {
          "output_type": "stream",
          "name": "stderr",
          "text": [
            "/usr/local/lib/python3.7/dist-packages/ipykernel_launcher.py:2: SettingWithCopyWarning: \n",
            "A value is trying to be set on a copy of a slice from a DataFrame.\n",
            "Try using .loc[row_indexer,col_indexer] = value instead\n",
            "\n",
            "See the caveats in the documentation: https://pandas.pydata.org/pandas-docs/stable/user_guide/indexing.html#returning-a-view-versus-a-copy\n",
            "  \n"
          ]
        }
      ]
    },
    {
      "cell_type": "code",
      "metadata": {
        "id": "vGKSVaO568Bl",
        "outputId": "5336154f-c3dc-493b-bbf7-2eab8e815711",
        "colab": {
          "base_uri": "https://localhost:8080/",
          "height": 833
        }
      },
      "source": [
        "test"
      ],
      "execution_count": 31,
      "outputs": [
        {
          "output_type": "execute_result",
          "data": {
            "text/plain": [
              "            Consommation  Predictions\n",
              "DATE                                 \n",
              "2020-06-01       257.217   252.610517\n",
              "2020-07-01       258.543   251.898016\n",
              "2020-08-01       259.580   251.194491\n",
              "2020-09-01       260.190   250.462707\n",
              "2020-10-01       260.352   249.711414\n",
              "2020-11-01       260.721   248.941461\n",
              "2020-12-01       261.564   248.161371\n",
              "2021-01-01       262.200   247.375448\n",
              "2021-02-01       263.346   246.580663\n",
              "2021-03-01       265.028   245.782337\n",
              "2021-04-01       266.727   244.975999\n",
              "2021-05-01       268.599   244.164621\n",
              "2021-06-01       270.955   243.349788\n",
              "2021-07-01       272.184   242.529490\n",
              "2021-08-01       273.092   241.708569\n",
              "2021-09-01       274.214   240.887960\n",
              "2021-10-01       276.590   240.072079\n",
              "2021-11-01       278.524   239.264127\n",
              "2021-12-01       280.126   238.457930\n",
              "2022-01-01       281.933   237.663654\n",
              "2022-02-01       284.182   236.871020\n",
              "2022-03-01       287.708   236.080227\n",
              "2022-04-01       288.663   235.291529\n",
              "2022-05-01       291.474   234.505125"
            ],
            "text/html": [
              "\n",
              "  <div id=\"df-7693f550-9eb8-42b1-a9f2-6172d795bafa\">\n",
              "    <div class=\"colab-df-container\">\n",
              "      <div>\n",
              "<style scoped>\n",
              "    .dataframe tbody tr th:only-of-type {\n",
              "        vertical-align: middle;\n",
              "    }\n",
              "\n",
              "    .dataframe tbody tr th {\n",
              "        vertical-align: top;\n",
              "    }\n",
              "\n",
              "    .dataframe thead th {\n",
              "        text-align: right;\n",
              "    }\n",
              "</style>\n",
              "<table border=\"1\" class=\"dataframe\">\n",
              "  <thead>\n",
              "    <tr style=\"text-align: right;\">\n",
              "      <th></th>\n",
              "      <th>Consommation</th>\n",
              "      <th>Predictions</th>\n",
              "    </tr>\n",
              "    <tr>\n",
              "      <th>DATE</th>\n",
              "      <th></th>\n",
              "      <th></th>\n",
              "    </tr>\n",
              "  </thead>\n",
              "  <tbody>\n",
              "    <tr>\n",
              "      <th>2020-06-01</th>\n",
              "      <td>257.217</td>\n",
              "      <td>252.610517</td>\n",
              "    </tr>\n",
              "    <tr>\n",
              "      <th>2020-07-01</th>\n",
              "      <td>258.543</td>\n",
              "      <td>251.898016</td>\n",
              "    </tr>\n",
              "    <tr>\n",
              "      <th>2020-08-01</th>\n",
              "      <td>259.580</td>\n",
              "      <td>251.194491</td>\n",
              "    </tr>\n",
              "    <tr>\n",
              "      <th>2020-09-01</th>\n",
              "      <td>260.190</td>\n",
              "      <td>250.462707</td>\n",
              "    </tr>\n",
              "    <tr>\n",
              "      <th>2020-10-01</th>\n",
              "      <td>260.352</td>\n",
              "      <td>249.711414</td>\n",
              "    </tr>\n",
              "    <tr>\n",
              "      <th>2020-11-01</th>\n",
              "      <td>260.721</td>\n",
              "      <td>248.941461</td>\n",
              "    </tr>\n",
              "    <tr>\n",
              "      <th>2020-12-01</th>\n",
              "      <td>261.564</td>\n",
              "      <td>248.161371</td>\n",
              "    </tr>\n",
              "    <tr>\n",
              "      <th>2021-01-01</th>\n",
              "      <td>262.200</td>\n",
              "      <td>247.375448</td>\n",
              "    </tr>\n",
              "    <tr>\n",
              "      <th>2021-02-01</th>\n",
              "      <td>263.346</td>\n",
              "      <td>246.580663</td>\n",
              "    </tr>\n",
              "    <tr>\n",
              "      <th>2021-03-01</th>\n",
              "      <td>265.028</td>\n",
              "      <td>245.782337</td>\n",
              "    </tr>\n",
              "    <tr>\n",
              "      <th>2021-04-01</th>\n",
              "      <td>266.727</td>\n",
              "      <td>244.975999</td>\n",
              "    </tr>\n",
              "    <tr>\n",
              "      <th>2021-05-01</th>\n",
              "      <td>268.599</td>\n",
              "      <td>244.164621</td>\n",
              "    </tr>\n",
              "    <tr>\n",
              "      <th>2021-06-01</th>\n",
              "      <td>270.955</td>\n",
              "      <td>243.349788</td>\n",
              "    </tr>\n",
              "    <tr>\n",
              "      <th>2021-07-01</th>\n",
              "      <td>272.184</td>\n",
              "      <td>242.529490</td>\n",
              "    </tr>\n",
              "    <tr>\n",
              "      <th>2021-08-01</th>\n",
              "      <td>273.092</td>\n",
              "      <td>241.708569</td>\n",
              "    </tr>\n",
              "    <tr>\n",
              "      <th>2021-09-01</th>\n",
              "      <td>274.214</td>\n",
              "      <td>240.887960</td>\n",
              "    </tr>\n",
              "    <tr>\n",
              "      <th>2021-10-01</th>\n",
              "      <td>276.590</td>\n",
              "      <td>240.072079</td>\n",
              "    </tr>\n",
              "    <tr>\n",
              "      <th>2021-11-01</th>\n",
              "      <td>278.524</td>\n",
              "      <td>239.264127</td>\n",
              "    </tr>\n",
              "    <tr>\n",
              "      <th>2021-12-01</th>\n",
              "      <td>280.126</td>\n",
              "      <td>238.457930</td>\n",
              "    </tr>\n",
              "    <tr>\n",
              "      <th>2022-01-01</th>\n",
              "      <td>281.933</td>\n",
              "      <td>237.663654</td>\n",
              "    </tr>\n",
              "    <tr>\n",
              "      <th>2022-02-01</th>\n",
              "      <td>284.182</td>\n",
              "      <td>236.871020</td>\n",
              "    </tr>\n",
              "    <tr>\n",
              "      <th>2022-03-01</th>\n",
              "      <td>287.708</td>\n",
              "      <td>236.080227</td>\n",
              "    </tr>\n",
              "    <tr>\n",
              "      <th>2022-04-01</th>\n",
              "      <td>288.663</td>\n",
              "      <td>235.291529</td>\n",
              "    </tr>\n",
              "    <tr>\n",
              "      <th>2022-05-01</th>\n",
              "      <td>291.474</td>\n",
              "      <td>234.505125</td>\n",
              "    </tr>\n",
              "  </tbody>\n",
              "</table>\n",
              "</div>\n",
              "      <button class=\"colab-df-convert\" onclick=\"convertToInteractive('df-7693f550-9eb8-42b1-a9f2-6172d795bafa')\"\n",
              "              title=\"Convert this dataframe to an interactive table.\"\n",
              "              style=\"display:none;\">\n",
              "        \n",
              "  <svg xmlns=\"http://www.w3.org/2000/svg\" height=\"24px\"viewBox=\"0 0 24 24\"\n",
              "       width=\"24px\">\n",
              "    <path d=\"M0 0h24v24H0V0z\" fill=\"none\"/>\n",
              "    <path d=\"M18.56 5.44l.94 2.06.94-2.06 2.06-.94-2.06-.94-.94-2.06-.94 2.06-2.06.94zm-11 1L8.5 8.5l.94-2.06 2.06-.94-2.06-.94L8.5 2.5l-.94 2.06-2.06.94zm10 10l.94 2.06.94-2.06 2.06-.94-2.06-.94-.94-2.06-.94 2.06-2.06.94z\"/><path d=\"M17.41 7.96l-1.37-1.37c-.4-.4-.92-.59-1.43-.59-.52 0-1.04.2-1.43.59L10.3 9.45l-7.72 7.72c-.78.78-.78 2.05 0 2.83L4 21.41c.39.39.9.59 1.41.59.51 0 1.02-.2 1.41-.59l7.78-7.78 2.81-2.81c.8-.78.8-2.07 0-2.86zM5.41 20L4 18.59l7.72-7.72 1.47 1.35L5.41 20z\"/>\n",
              "  </svg>\n",
              "      </button>\n",
              "      \n",
              "  <style>\n",
              "    .colab-df-container {\n",
              "      display:flex;\n",
              "      flex-wrap:wrap;\n",
              "      gap: 12px;\n",
              "    }\n",
              "\n",
              "    .colab-df-convert {\n",
              "      background-color: #E8F0FE;\n",
              "      border: none;\n",
              "      border-radius: 50%;\n",
              "      cursor: pointer;\n",
              "      display: none;\n",
              "      fill: #1967D2;\n",
              "      height: 32px;\n",
              "      padding: 0 0 0 0;\n",
              "      width: 32px;\n",
              "    }\n",
              "\n",
              "    .colab-df-convert:hover {\n",
              "      background-color: #E2EBFA;\n",
              "      box-shadow: 0px 1px 2px rgba(60, 64, 67, 0.3), 0px 1px 3px 1px rgba(60, 64, 67, 0.15);\n",
              "      fill: #174EA6;\n",
              "    }\n",
              "\n",
              "    [theme=dark] .colab-df-convert {\n",
              "      background-color: #3B4455;\n",
              "      fill: #D2E3FC;\n",
              "    }\n",
              "\n",
              "    [theme=dark] .colab-df-convert:hover {\n",
              "      background-color: #434B5C;\n",
              "      box-shadow: 0px 1px 3px 1px rgba(0, 0, 0, 0.15);\n",
              "      filter: drop-shadow(0px 1px 2px rgba(0, 0, 0, 0.3));\n",
              "      fill: #FFFFFF;\n",
              "    }\n",
              "  </style>\n",
              "\n",
              "      <script>\n",
              "        const buttonEl =\n",
              "          document.querySelector('#df-7693f550-9eb8-42b1-a9f2-6172d795bafa button.colab-df-convert');\n",
              "        buttonEl.style.display =\n",
              "          google.colab.kernel.accessAllowed ? 'block' : 'none';\n",
              "\n",
              "        async function convertToInteractive(key) {\n",
              "          const element = document.querySelector('#df-7693f550-9eb8-42b1-a9f2-6172d795bafa');\n",
              "          const dataTable =\n",
              "            await google.colab.kernel.invokeFunction('convertToInteractive',\n",
              "                                                     [key], {});\n",
              "          if (!dataTable) return;\n",
              "\n",
              "          const docLinkHtml = 'Like what you see? Visit the ' +\n",
              "            '<a target=\"_blank\" href=https://colab.research.google.com/notebooks/data_table.ipynb>data table notebook</a>'\n",
              "            + ' to learn more about interactive tables.';\n",
              "          element.innerHTML = '';\n",
              "          dataTable['output_type'] = 'display_data';\n",
              "          await google.colab.output.renderOutput(dataTable, element);\n",
              "          const docLink = document.createElement('div');\n",
              "          docLink.innerHTML = docLinkHtml;\n",
              "          element.appendChild(docLink);\n",
              "        }\n",
              "      </script>\n",
              "    </div>\n",
              "  </div>\n",
              "  "
            ]
          },
          "metadata": {},
          "execution_count": 31
        }
      ]
    },
    {
      "cell_type": "markdown",
      "metadata": {
        "id": "6GjwPcbN7EdT"
      },
      "source": [
        "**Tâche : Tracez vos prédictions en fonction des valeurs réels (et vrais) du test. (Votre tracé peut être différent du nôtre).**"
      ]
    },
    {
      "cell_type": "code",
      "metadata": {
        "id": "LbHxNR_07Tsq",
        "outputId": "2729b0e5-97e0-4cbd-8d40-69cdb1759f84",
        "colab": {
          "base_uri": "https://localhost:8080/",
          "height": 309
        }
      },
      "source": [
        "test.plot()"
      ],
      "execution_count": 32,
      "outputs": [
        {
          "output_type": "execute_result",
          "data": {
            "text/plain": [
              "<matplotlib.axes._subplots.AxesSubplot at 0x7f2c96d7e550>"
            ]
          },
          "metadata": {},
          "execution_count": 32
        },
        {
          "output_type": "display_data",
          "data": {
            "text/plain": [
              "<Figure size 432x288 with 1 Axes>"
            ],
            "image/png": "[encoded data removed]"
          },
          "metadata": {
            "needs_background": "light"
          }
        }
      ]
    },
    {
      "cell_type": "markdown",
      "metadata": {
        "id": "5ht_YNY07XXE"
      },
      "source": [
        "**Tâche : Calculer votre RMSE.**"
      ]
    },
    {
      "cell_type": "code",
      "metadata": {
        "id": "N2y8_t2S7bm6"
      },
      "source": [
        "from sklearn.metrics import mean_squared_error"
      ],
      "execution_count": 33,
      "outputs": []
    },
    {
      "cell_type": "code",
      "metadata": {
        "id": "6PpyUmFz7cFU",
        "outputId": "5fd54aa3-4738-430f-ff5b-d9953a1a14f4",
        "colab": {
          "base_uri": "https://localhost:8080/"
        }
      },
      "source": [
        "np.sqrt(mean_squared_error(test['Consommation'],test['Predictions']))"
      ],
      "execution_count": 35,
      "outputs": [
        {
          "output_type": "execute_result",
          "data": {
            "text/plain": [
              "31.562709432475142"
            ]
          },
          "metadata": {},
          "execution_count": 35
        }
      ]
    }
  ]
}
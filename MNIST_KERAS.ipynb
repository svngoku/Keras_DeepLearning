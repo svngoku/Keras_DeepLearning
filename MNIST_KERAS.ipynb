{
  "nbformat": 4,
  "nbformat_minor": 0,
  "metadata": {
    "colab": {
      "name": "MNIST_KERAS.ipynb",
      "provenance": []
    },
    "kernelspec": {
      "name": "python3",
      "display_name": "Python 3"
    },
    "language_info": {
      "name": "python"
    }
  },
  "cells": [
    {
      "cell_type": "code",
      "execution_count": 43,
      "metadata": {
        "id": "It-sekj7qH0M"
      },
      "outputs": [],
      "source": [
        "import tensorflow as tf\n",
        "import numpy as np\n",
        "import matplotlib.pyplot as plt\n",
        "from tensorflow.keras.models import Sequential\n",
        "from tensorflow.keras.layers import Dense, Flatten, Conv2D, MaxPooling2D, Dropout\n",
        "from tensorflow.keras.datasets import mnist\n",
        "from tensorflow.keras.utils import to_categorical\n",
        "from tensorflow.keras.preprocessing import image\n",
        "from PIL import Image\n",
        "from skimage import transform\n",
        "\n",
        "# load the MNIST data\n",
        "from keras.datasets import mnist\n"
      ]
    },
    {
      "cell_type": "code",
      "source": [
        "def load(filename):\n",
        "   np_image = Image.open(filename)\n",
        "   np_image = np.array(np_image).astype('float32')/255\n",
        "   np_image = transform.resize(np_image, (256, 256, 3))\n",
        "   np_image = np.expand_dims(np_image, axis=0)\n",
        "   return np_image"
      ],
      "metadata": {
        "id": "WoaE5lj3wUlz"
      },
      "execution_count": 30,
      "outputs": []
    },
    {
      "cell_type": "code",
      "source": [
        "def play_nmist_img(img_path):\n",
        "  img = image.load_img(img_path, target_size=(28,28), color_mode='grayscale')\n",
        "  plt.imshow(img)\n",
        "  plt.show()\n",
        "\n",
        "  img = image.img_to_array(img)\n",
        "  img = img / 255\n",
        "  img = img.reshape(-1, 1)\n",
        "  img = np.expand_dims(img, axis=0)\n",
        "\n",
        "  return img"
      ],
      "metadata": {
        "id": "X1zFCQ-24Vvh"
      },
      "execution_count": 116,
      "outputs": []
    },
    {
      "cell_type": "code",
      "source": [
        "def predict_number(img, model):\n",
        "  result = model.predict(img)\n",
        "  print(f\"prediction: {np.argmax(result)}\")"
      ],
      "metadata": {
        "id": "Kg_rfDzG43RJ"
      },
      "execution_count": 118,
      "outputs": []
    },
    {
      "cell_type": "code",
      "source": [
        ""
      ],
      "metadata": {
        "id": "ydkP3FEu4i6F"
      },
      "execution_count": null,
      "outputs": []
    },
    {
      "cell_type": "code",
      "source": [
        "# the data, split between train and test sets\n",
        "(x_train, y_train), (x_test, y_test) = mnist.load_data()"
      ],
      "metadata": {
        "id": "-f56--qXqo_M"
      },
      "execution_count": null,
      "outputs": []
    },
    {
      "cell_type": "code",
      "source": [
        "# reshape the data\n",
        "x_train = x_train.reshape(60000, 784)\n",
        "x_test = x_test.reshape(10000, 784)\n",
        "x_train = x_train.astype('float32')\n",
        "x_test = x_test.astype('float32')\n",
        "x_train /= 255\n",
        "x_test /= 255\n",
        "print(x_train.shape[0], 'train samples')\n",
        "print(x_test.shape[0], 'test samples')"
      ],
      "metadata": {
        "colab": {
          "base_uri": "https://localhost:8080/"
        },
        "id": "uKfoOjrjq3ap",
        "outputId": "b7df062c-f0ce-4c44-b0ac-51b63f6e9a9f"
      },
      "execution_count": null,
      "outputs": [
        {
          "output_type": "stream",
          "name": "stdout",
          "text": [
            "60000 train samples\n",
            "10000 test samples\n"
          ]
        }
      ]
    },
    {
      "cell_type": "code",
      "source": [
        "# convert class vectors to binary class matrices\n",
        "y_train = to_categorical(y_train, 10)\n",
        "y_test = to_categorical(y_test, 10)"
      ],
      "metadata": {
        "id": "uXGaGg0mroVT"
      },
      "execution_count": null,
      "outputs": []
    },
    {
      "cell_type": "code",
      "source": [
        "# create model\n",
        "model = Sequential()\n",
        "model.add(Dense(512, activation='relu', input_shape=(784,)))\n",
        "model.add(Dense(512, activation='relu'))\n",
        "model.add(Dense(10, activation='softmax'))\n",
        "\n",
        "# compile the model\n",
        "model.compile(loss='categorical_crossentropy',\n",
        "              optimizer=tf.keras.optimizers.Adam(),\n",
        "              metrics=['accuracy'])"
      ],
      "metadata": {
        "id": "8KMJ0Vu7qmcN"
      },
      "execution_count": 86,
      "outputs": []
    },
    {
      "cell_type": "code",
      "source": [
        "# train\n",
        "model.fit(x_train, y_train, validation_data=(x_test, y_test), epochs=3)"
      ],
      "metadata": {
        "colab": {
          "base_uri": "https://localhost:8080/"
        },
        "id": "3xJoxxJQrfZf",
        "outputId": "878441e4-da2d-4ebf-f484-b5f41a32ef80"
      },
      "execution_count": 88,
      "outputs": [
        {
          "output_type": "stream",
          "name": "stdout",
          "text": [
            "Epoch 1/3\n",
            "1875/1875 [==============================] - 16s 8ms/step - loss: 0.0575 - accuracy: 0.9815 - val_loss: 0.0881 - val_accuracy: 0.9758\n",
            "Epoch 2/3\n",
            "1875/1875 [==============================] - 16s 8ms/step - loss: 0.0441 - accuracy: 0.9862 - val_loss: 0.0795 - val_accuracy: 0.9783\n",
            "Epoch 3/3\n",
            "1875/1875 [==============================] - 16s 8ms/step - loss: 0.0354 - accuracy: 0.9892 - val_loss: 0.0734 - val_accuracy: 0.9798\n"
          ]
        },
        {
          "output_type": "execute_result",
          "data": {
            "text/plain": [
              "<keras.callbacks.History at 0x7f77206a9e90>"
            ]
          },
          "metadata": {},
          "execution_count": 88
        }
      ]
    },
    {
      "cell_type": "code",
      "source": [
        "model.summary()"
      ],
      "metadata": {
        "colab": {
          "base_uri": "https://localhost:8080/"
        },
        "id": "w4D3lqRIs54f",
        "outputId": "8258cd1e-f2a4-46d4-9a8e-cb65d85cca26"
      },
      "execution_count": 89,
      "outputs": [
        {
          "output_type": "stream",
          "name": "stdout",
          "text": [
            "Model: \"sequential_5\"\n",
            "_________________________________________________________________\n",
            " Layer (type)                Output Shape              Param #   \n",
            "=================================================================\n",
            " dense_11 (Dense)            (None, 512)               401920    \n",
            "                                                                 \n",
            " dense_12 (Dense)            (None, 512)               262656    \n",
            "                                                                 \n",
            " dense_13 (Dense)            (None, 10)                5130      \n",
            "                                                                 \n",
            "=================================================================\n",
            "Total params: 669,706\n",
            "Trainable params: 669,706\n",
            "Non-trainable params: 0\n",
            "_________________________________________________________________\n"
          ]
        }
      ]
    },
    {
      "cell_type": "code",
      "source": [
        "# evaluate the model\n",
        "score = model.evaluate(x_test, y_test, verbose=0)\n",
        "print('Test loss:', score[0] * 100)\n",
        "print('Test accuracy:', score[1] * 100)"
      ],
      "metadata": {
        "colab": {
          "base_uri": "https://localhost:8080/"
        },
        "id": "Es89mJztqmem",
        "outputId": "67077f88-cd7c-42fd-cca5-fb3deb8120ea"
      },
      "execution_count": 90,
      "outputs": [
        {
          "output_type": "stream",
          "name": "stdout",
          "text": [
            "Test loss: 7.341998815536499\n",
            "Test accuracy: 97.97999858856201\n"
          ]
        }
      ]
    },
    {
      "cell_type": "code",
      "source": [
        "# save the model\n",
        "model.save(\"model_mnist_nn.h5\")"
      ],
      "metadata": {
        "id": "YyWRg8qiqmhD"
      },
      "execution_count": null,
      "outputs": []
    },
    {
      "cell_type": "code",
      "source": [
        "# show the test images\n",
        "for i in range(0, 10):\n",
        "    plt.imshow(x_test[i].reshape(28, 28))\n",
        "    plt.show()\n",
        "\n",
        "# predict the test images\n",
        "for i in range(0, 10):\n",
        "    print(\"prediction: {}\".format(np.argmax(x_test[i])))\n",
        "    print(\"actual: {}\".format(y_test[i]))"
      ],
      "metadata": {
        "colab": {
          "base_uri": "https://localhost:8080/",
          "height": 1000
        },
        "id": "IPnHMnmqs9Wu",
        "outputId": "095bc690-8802-4303-dc7c-6c30199c3dcb"
      },
      "execution_count": 91,
      "outputs": [
        {
          "output_type": "display_data",
          "data": {
            "text/plain": [
              "<Figure size 432x288 with 1 Axes>"
            ],
            "image/png": "[encoded data removed]"
          },
          "metadata": {
            "needs_background": "light"
          }
        },
        {
          "output_type": "display_data",
          "data": {
            "text/plain": [
              "<Figure size 432x288 with 1 Axes>"
            ],
            "image/png": "[encoded data removed]"
          },
          "metadata": {
            "needs_background": "light"
          }
        },
        {
          "output_type": "display_data",
          "data": {
            "text/plain": [
              "<Figure size 432x288 with 1 Axes>"
            ],
            "image/png": "[encoded data removed]"
          },
          "metadata": {
            "needs_background": "light"
          }
        },
        {
          "output_type": "display_data",
          "data": {
            "text/plain": [
              "<Figure size 432x288 with 1 Axes>"
            ],
            "image/png": "[encoded data removed]"
          },
          "metadata": {
            "needs_background": "light"
          }
        },
        {
          "output_type": "display_data",
          "data": {
            "text/plain": [
              "<Figure size 432x288 with 1 Axes>"
            ],
            "image/png": "[encoded data removed]"
          },
          "metadata": {
            "needs_background": "light"
          }
        },
        {
          "output_type": "display_data",
          "data": {
            "text/plain": [
              "<Figure size 432x288 with 1 Axes>"
            ],
            "image/png": "[encoded data removed]"
          },
          "metadata": {
            "needs_background": "light"
          }
        },
        {
          "output_type": "display_data",
          "data": {
            "text/plain": [
              "<Figure size 432x288 with 1 Axes>"
            ],
            "image/png": "[encoded data removed]"
          },
          "metadata": {
            "needs_background": "light"
          }
        },
        {
          "output_type": "display_data",
          "data": {
            "text/plain": [
              "<Figure size 432x288 with 1 Axes>"
            ],
            "image/png": "[encoded data removed]"
          },
          "metadata": {
            "needs_background": "light"
          }
        },
        {
          "output_type": "display_data",
          "data": {
            "text/plain": [
              "<Figure size 432x288 with 1 Axes>"
            ],
            "image/png": "[encoded data removed]"
          },
          "metadata": {
            "needs_background": "light"
          }
        },
        {
          "output_type": "display_data",
          "data": {
            "text/plain": [
              "<Figure size 432x288 with 1 Axes>"
            ],
            "image/png": "[encoded data removed]"
          },
          "metadata": {
            "needs_background": "light"
          }
        },
        {
          "output_type": "stream",
          "name": "stdout",
          "text": [
            "prediction: 355\n",
            "actual: [0. 0. 0. 0. 0. 0. 0. 1. 0. 0.]\n",
            "prediction: 97\n",
            "actual: [0. 0. 1. 0. 0. 0. 0. 0. 0. 0.]\n",
            "prediction: 406\n",
            "actual: [0. 1. 0. 0. 0. 0. 0. 0. 0. 0.]\n",
            "prediction: 262\n",
            "actual: [1. 0. 0. 0. 0. 0. 0. 0. 0. 0.]\n",
            "prediction: 299\n",
            "actual: [0. 0. 0. 0. 1. 0. 0. 0. 0. 0.]\n",
            "prediction: 157\n",
            "actual: [0. 1. 0. 0. 0. 0. 0. 0. 0. 0.]\n",
            "prediction: 287\n",
            "actual: [0. 0. 0. 0. 1. 0. 0. 0. 0. 0.]\n",
            "prediction: 324\n",
            "actual: [0. 0. 0. 0. 0. 0. 0. 0. 0. 1.]\n",
            "prediction: 425\n",
            "actual: [0. 0. 0. 0. 0. 1. 0. 0. 0. 0.]\n",
            "prediction: 357\n",
            "actual: [0. 0. 0. 0. 0. 0. 0. 0. 0. 1.]\n"
          ]
        }
      ]
    },
    {
      "cell_type": "code",
      "source": [
        "# predict an image\n",
        "img = image.load_img('./sample_data/images.png', target_size=(28,28), color_mode='grayscale')\n",
        "plt.imshow(img)\n",
        "plt.show()"
      ],
      "metadata": {
        "colab": {
          "base_uri": "https://localhost:8080/",
          "height": 265
        },
        "id": "xTnCMjnatI4u",
        "outputId": "5ee0ed08-4f36-458f-ed13-bbdeb44f082f"
      },
      "execution_count": 113,
      "outputs": [
        {
          "output_type": "display_data",
          "data": {
            "text/plain": [
              "<Figure size 432x288 with 1 Axes>"
            ],
            "image/png": "[encoded data removed]"
          },
          "metadata": {
            "needs_background": "light"
          }
        }
      ]
    },
    {
      "cell_type": "code",
      "source": [
        "img0 = play_nmist_img(\"./sample_data/images.png\")\n",
        "img1 = play_nmist_img(\"./sample_data/mnist1.png\")"
      ],
      "metadata": {
        "colab": {
          "base_uri": "https://localhost:8080/",
          "height": 513
        },
        "id": "KiZjFplk4Ty3",
        "outputId": "ffdce68f-67ed-4960-865c-9e2491c813b7"
      },
      "execution_count": 117,
      "outputs": [
        {
          "output_type": "display_data",
          "data": {
            "text/plain": [
              "<Figure size 432x288 with 1 Axes>"
            ],
            "image/png": "[encoded data removed]"
          },
          "metadata": {
            "needs_background": "light"
          }
        },
        {
          "output_type": "display_data",
          "data": {
            "text/plain": [
              "<Figure size 432x288 with 1 Axes>"
            ],
            "image/png": "[encoded data removed]"
          },
          "metadata": {
            "needs_background": "light"
          }
        }
      ]
    },
    {
      "cell_type": "code",
      "source": [
        "predict_number(img0, model)"
      ],
      "metadata": {
        "colab": {
          "base_uri": "https://localhost:8080/"
        },
        "id": "ObXlCRVqx5K1",
        "outputId": "72fcf4f5-9529-4116-804c-d6636080cca2"
      },
      "execution_count": 119,
      "outputs": [
        {
          "output_type": "stream",
          "name": "stdout",
          "text": [
            "prediction: 0\n"
          ]
        }
      ]
    },
    {
      "cell_type": "code",
      "source": [
        "predict_number(img1, model)"
      ],
      "metadata": {
        "id": "ymw8QE7j5H0L",
        "outputId": "775afc7d-b698-4603-b5b4-f5645f5518f4",
        "colab": {
          "base_uri": "https://localhost:8080/"
        }
      },
      "execution_count": 120,
      "outputs": [
        {
          "output_type": "stream",
          "name": "stdout",
          "text": [
            "prediction: 6\n"
          ]
        }
      ]
    }
  ]
}